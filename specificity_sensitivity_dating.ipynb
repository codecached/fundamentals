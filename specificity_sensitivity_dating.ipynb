{
 "cells": [
  {
   "cell_type": "markdown",
   "metadata": {},
   "source": [
    "# Learning Sensitivity, Specificity, and the Science of Matchmaking\n",
    "\n",
    "Welcome to the AI-powered ballroom! Here, we don’t just pair hopeful romantics based on instinct—data and a dash of algorithmic magic make every waltz and love story more interesting. Let’s narrate the chapters of this grand AI matchmaking story, using Python code blocks and visual plots so you can follow along both logically and emotionally.\n",
    "\n",
    "---\n",
    "\n",
    "## Author Information\n",
    "\n",
    "**Author:** Srinivasan Panneer  \n",
    "**Email:** post.srinivasan@example.com  \n",
    "**Location:** Chennai, Tamil Nadu, India  \n",
    "**LinkedIn:** [www.linkedin.com/in/srinivasan-p-3b94343b](www.linkedin.com/in/srinivasan-p-3b94343b)  \n",
    "**GitHub:** [https://github.com/codecached](https://github.com/codecached)  \n",
    "\n",
    "*This notebook was created to illustrate AI matchmaking concepts using Python simulations and visualizations.*\n",
    "\n",
    "---"
   ]
  },
  {
   "cell_type": "code",
   "execution_count": 1,
   "metadata": {},
   "outputs": [],
   "source": [
    "import numpy as np\n",
    "import pandas as pd\n",
    "import matplotlib.pyplot as plt\n",
    "from sklearn.metrics import confusion_matrix, roc_curve, auc\n",
    "\n",
    "# Seed for reproducibility\n",
    "np.random.seed(42)\n",
    "\n",
    "import plotly.graph_objects as go\n",
    "from plotly.subplots import make_subplots\n",
    "\n",
    "# Set style for plots\n",
    "plt.style.use('seaborn-v0_8-poster')\n",
    "plt.rcParams.update({'font.size': 12, 'axes.labelsize': 14, 'axes.titlesize': 16, 'xtick.labelsize': 12, 'ytick.labelsize': 12})"
   ]
  },
  {
   "cell_type": "markdown",
   "metadata": {},
   "source": [
    "## Chapter 1: Meet the Cast\n",
    "\n",
    "In our story, every boy and girl comes with a mix of charming personality traits:\n",
    "- **Humor**\n",
    "- **Kindness**\n",
    "- **Adventure**\n",
    "\n",
    "Each trait scored from 0 to 10 for 30 boys and 30 girls. Let's also assign some names to our cast to add a personal touch."
   ]
  },
  {
   "cell_type": "code",
   "execution_count": 2,
   "metadata": {},
   "outputs": [
    {
     "name": "stdout",
     "output_type": "stream",
     "text": [
      "Sample of Boys with Personality and Names:\n"
     ]
    },
    {
     "data": {
      "text/html": [
       "<div>\n",
       "<style scoped>\n",
       "    .dataframe tbody tr th:only-of-type {\n",
       "        vertical-align: middle;\n",
       "    }\n",
       "\n",
       "    .dataframe tbody tr th {\n",
       "        vertical-align: top;\n",
       "    }\n",
       "\n",
       "    .dataframe thead th {\n",
       "        text-align: right;\n",
       "    }\n",
       "</style>\n",
       "<table border=\"1\" class=\"dataframe\">\n",
       "  <thead>\n",
       "    <tr style=\"text-align: right;\">\n",
       "      <th></th>\n",
       "      <th>boy_id</th>\n",
       "      <th>name</th>\n",
       "      <th>humor</th>\n",
       "      <th>kindness</th>\n",
       "      <th>adventure</th>\n",
       "    </tr>\n",
       "  </thead>\n",
       "  <tbody>\n",
       "    <tr>\n",
       "      <th>0</th>\n",
       "      <td>0</td>\n",
       "      <td>Jack</td>\n",
       "      <td>6</td>\n",
       "      <td>10</td>\n",
       "      <td>3</td>\n",
       "    </tr>\n",
       "    <tr>\n",
       "      <th>1</th>\n",
       "      <td>1</td>\n",
       "      <td>Harry</td>\n",
       "      <td>3</td>\n",
       "      <td>9</td>\n",
       "      <td>1</td>\n",
       "    </tr>\n",
       "    <tr>\n",
       "      <th>2</th>\n",
       "      <td>2</td>\n",
       "      <td>Oliver</td>\n",
       "      <td>10</td>\n",
       "      <td>2</td>\n",
       "      <td>5</td>\n",
       "    </tr>\n",
       "    <tr>\n",
       "      <th>3</th>\n",
       "      <td>3</td>\n",
       "      <td>George</td>\n",
       "      <td>7</td>\n",
       "      <td>6</td>\n",
       "      <td>5</td>\n",
       "    </tr>\n",
       "    <tr>\n",
       "      <th>4</th>\n",
       "      <td>4</td>\n",
       "      <td>Thomas</td>\n",
       "      <td>4</td>\n",
       "      <td>3</td>\n",
       "      <td>9</td>\n",
       "    </tr>\n",
       "  </tbody>\n",
       "</table>\n",
       "</div>"
      ],
      "text/plain": [
       "   boy_id    name  humor  kindness  adventure\n",
       "0       0    Jack      6        10          3\n",
       "1       1   Harry      3         9          1\n",
       "2       2  Oliver     10         2          5\n",
       "3       3  George      7         6          5\n",
       "4       4  Thomas      4         3          9"
      ]
     },
     "metadata": {},
     "output_type": "display_data"
    },
    {
     "name": "stdout",
     "output_type": "stream",
     "text": [
      "\n",
      "Sample of Girls with Personality and Names:\n"
     ]
    },
    {
     "data": {
      "text/html": [
       "<div>\n",
       "<style scoped>\n",
       "    .dataframe tbody tr th:only-of-type {\n",
       "        vertical-align: middle;\n",
       "    }\n",
       "\n",
       "    .dataframe tbody tr th {\n",
       "        vertical-align: top;\n",
       "    }\n",
       "\n",
       "    .dataframe thead th {\n",
       "        text-align: right;\n",
       "    }\n",
       "</style>\n",
       "<table border=\"1\" class=\"dataframe\">\n",
       "  <thead>\n",
       "    <tr style=\"text-align: right;\">\n",
       "      <th></th>\n",
       "      <th>girl_id</th>\n",
       "      <th>name</th>\n",
       "      <th>humor</th>\n",
       "      <th>kindness</th>\n",
       "      <th>adventure</th>\n",
       "    </tr>\n",
       "  </thead>\n",
       "  <tbody>\n",
       "    <tr>\n",
       "      <th>0</th>\n",
       "      <td>0</td>\n",
       "      <td>Olivia</td>\n",
       "      <td>7</td>\n",
       "      <td>4</td>\n",
       "      <td>3</td>\n",
       "    </tr>\n",
       "    <tr>\n",
       "      <th>1</th>\n",
       "      <td>1</td>\n",
       "      <td>Amelia</td>\n",
       "      <td>10</td>\n",
       "      <td>2</td>\n",
       "      <td>10</td>\n",
       "    </tr>\n",
       "    <tr>\n",
       "      <th>2</th>\n",
       "      <td>2</td>\n",
       "      <td>Isla</td>\n",
       "      <td>2</td>\n",
       "      <td>0</td>\n",
       "      <td>9</td>\n",
       "    </tr>\n",
       "    <tr>\n",
       "      <th>3</th>\n",
       "      <td>3</td>\n",
       "      <td>Ava</td>\n",
       "      <td>0</td>\n",
       "      <td>4</td>\n",
       "      <td>6</td>\n",
       "    </tr>\n",
       "    <tr>\n",
       "      <th>4</th>\n",
       "      <td>4</td>\n",
       "      <td>Emily</td>\n",
       "      <td>7</td>\n",
       "      <td>9</td>\n",
       "      <td>8</td>\n",
       "    </tr>\n",
       "  </tbody>\n",
       "</table>\n",
       "</div>"
      ],
      "text/plain": [
       "   girl_id    name  humor  kindness  adventure\n",
       "0        0  Olivia      7         4          3\n",
       "1        1  Amelia     10         2         10\n",
       "2        2    Isla      2         0          9\n",
       "3        3     Ava      0         4          6\n",
       "4        4   Emily      7         9          8"
      ]
     },
     "metadata": {},
     "output_type": "display_data"
    }
   ],
   "source": [
    "# Generate sample boy and girl names\n",
    "boy_names = [\"Jack\", \"Harry\", \"Oliver\", \"George\", \"Thomas\", \"Charlie\", \"Oscar\", \"Jacob\", \"William\", \"James\", \"Henry\", \"Leo\", \"Alfie\", \"Joshua\", \"Freddie\", \"Archie\", \"Ethan\", \"Joseph\", \"Max\", \"Samuel\", \"Alexander\", \"Daniel\", \"Lucas\", \"Benjamin\", \"Mason\", \"Logan\", \"Theo\", \"Harrison\", \"Jake\", \"David\"]\n",
    "girl_names = [\"Olivia\", \"Amelia\", \"Isla\", \"Ava\", \"Emily\", \"Sophia\", \"Mia\", \"Grace\", \"Lily\", \"Ella\", \"Isabella\", \"Charlotte\", \"Sophie\", \"Evie\", \"Poppy\", \"Ella\", \"Scarlett\", \"Ruby\", \"Daisy\", \"Alice\", \"Jessica\", \"Maya\", \"Chloe\", \"Sienna\", \"Phoebe\", \"Luna\", \"Harper\", \"Matilda\", \"Zoe\", \"Imogen\"]\n",
    "\n",
    "# Personality traits\n",
    "boys = pd.DataFrame({\n",
    "    'boy_id': range(30),\n",
    "    'name': boy_names,\n",
    "    'humor': np.random.randint(0, 11, 30),\n",
    "    'kindness': np.random.randint(0, 11, 30),\n",
    "    'adventure': np.random.randint(0, 11, 30)\n",
    "})\n",
    "girls = pd.DataFrame({\n",
    "    'girl_id': range(30),\n",
    "    'name': girl_names,\n",
    "    'humor': np.random.randint(0, 11, 30),\n",
    "    'kindness': np.random.randint(0, 11, 30),\n",
    "    'adventure': np.random.randint(0, 11, 30)\n",
    "})\n",
    "\n",
    "print(\"Sample of Boys with Personality and Names:\")\n",
    "display(boys.head())\n",
    "print(\"\\nSample of Girls with Personality and Names:\")\n",
    "display(girls.head())\n"
   ]
  },
  {
   "cell_type": "markdown",
   "metadata": {},
   "source": [
    "## Chapter 2: Chemistry—Calculated by Compatibility\n",
    "\n",
    "Compatibility is the secret sauce here: the smaller the difference in personality traits, the stronger the chemistry score—a \"match meter\" running from 0 to 10."
   ]
  },
  {
   "cell_type": "code",
   "execution_count": 3,
   "metadata": {},
   "outputs": [],
   "source": [
    "def compatibility_score(boy, girl, weights={'humor': 0.4, 'kindness': 0.4, 'adventure': 0.2}):\n",
    "    score = 0\n",
    "    for trait in weights:\n",
    "        score += weights[trait] * (10 - abs(boy[trait] - girl[trait]))\n",
    "    return score\n"
   ]
  },
  {
   "cell_type": "markdown",
   "metadata": {},
   "source": [
    "## Why This Formula?\n",
    "\n",
    "- **Goal:**  \n",
    "  Quantify how *compatible* two people are, based on numeric personality traits — **humor**, **kindness**, and **adventure** — each scored from 0 to 10.\n",
    "\n",
    "- **Principle:**  \n",
    "  We assume that **similarity in personality traits indicates higher compatibility**. In other words, people who are closer in these important traits tend to get along better.\n",
    "\n",
    "- **Difference to Similarity Conversion:**  \n",
    "  For each trait, we calculate the **absolute difference** between the boy’s and girl’s trait scores:  \n",
    "  \\[\n",
    "  \\text{difference} = | \\text{boy\\_trait} - \\text{girl\\_trait} |\n",
    "  \\]  \n",
    "  The bigger this difference, the less compatible they are on that particular trait.  \n",
    "  To convert this difference into a similarity score, we subtract it from the maximum possible trait value (which is 10):  \n",
    "  \\[\n",
    "  \\text{similarity} = 10 - \\text{difference}\n",
    "  \\]  \n",
    "  This means:  \n",
    "  - If the difference is 0 (perfect match), similarity is 10 (maximum).  \n",
    "  - If the difference is 10 (complete mismatch), similarity is 0 (no compatibility).\n",
    "\n",
    "- **Weighting:**  \n",
    "  Different traits can have different levels of importance for compatibility. For example, humor and kindness might matter more than adventure.  \n",
    "  So, we assign weights to each trait that sum to 1 (for example, 0.4 for humor, 0.4 for kindness, and 0.2 for adventure). This allows us to emphasize certain traits more when calculating overall compatibility.\n",
    "\n",
    "- **Final Score:**  \n",
    "  The **weighted sum** of the similarity scores across all traits gives us the total compatibility score:  \n",
    "  \\[\n",
    "  \\text{compatibility score} = \\sum_{\\text{trait}} \\text{weight}_{\\text{trait}} \\times \\text{similarity}_{\\text{trait}}\n",
    "  \\]  \n",
    "  This produces a single numerical value representing how well matched the two people are based on their personalities.\n",
    "\n",
    "---"
   ]
  },
  {
   "cell_type": "markdown",
   "metadata": {},
   "source": [
    "## Chapter 3: Cupid Gets an Upgrade—AI Predictions with a Dash of Noise\n",
    "\n",
    "All possible boy-girl pairs get their chemistry scores calculated. Then AI predicts their match probability, adding some noise to mimic real world unpredictability."
   ]
  },
  {
   "cell_type": "code",
   "execution_count": 4,
   "metadata": {},
   "outputs": [
    {
     "name": "stdout",
     "output_type": "stream",
     "text": [
      "Sample Matches with Predictions:\n"
     ]
    },
    {
     "data": {
      "text/html": [
       "<div>\n",
       "<style scoped>\n",
       "    .dataframe tbody tr th:only-of-type {\n",
       "        vertical-align: middle;\n",
       "    }\n",
       "\n",
       "    .dataframe tbody tr th {\n",
       "        vertical-align: top;\n",
       "    }\n",
       "\n",
       "    .dataframe thead th {\n",
       "        text-align: right;\n",
       "    }\n",
       "</style>\n",
       "<table border=\"1\" class=\"dataframe\">\n",
       "  <thead>\n",
       "    <tr style=\"text-align: right;\">\n",
       "      <th></th>\n",
       "      <th>boy_id</th>\n",
       "      <th>boy_name</th>\n",
       "      <th>girl_id</th>\n",
       "      <th>girl_name</th>\n",
       "      <th>compatibility_score</th>\n",
       "      <th>true_match</th>\n",
       "      <th>predicted_prob</th>\n",
       "    </tr>\n",
       "  </thead>\n",
       "  <tbody>\n",
       "    <tr>\n",
       "      <th>131</th>\n",
       "      <td>4</td>\n",
       "      <td>Thomas</td>\n",
       "      <td>11</td>\n",
       "      <td>Charlotte</td>\n",
       "      <td>7.6</td>\n",
       "      <td>True</td>\n",
       "      <td>0.566318</td>\n",
       "    </tr>\n",
       "    <tr>\n",
       "      <th>542</th>\n",
       "      <td>18</td>\n",
       "      <td>Max</td>\n",
       "      <td>2</td>\n",
       "      <td>Isla</td>\n",
       "      <td>5.0</td>\n",
       "      <td>False</td>\n",
       "      <td>0.468497</td>\n",
       "    </tr>\n",
       "    <tr>\n",
       "      <th>868</th>\n",
       "      <td>28</td>\n",
       "      <td>Jake</td>\n",
       "      <td>28</td>\n",
       "      <td>Zoe</td>\n",
       "      <td>8.2</td>\n",
       "      <td>True</td>\n",
       "      <td>1.000000</td>\n",
       "    </tr>\n",
       "    <tr>\n",
       "      <th>651</th>\n",
       "      <td>21</td>\n",
       "      <td>Daniel</td>\n",
       "      <td>21</td>\n",
       "      <td>Maya</td>\n",
       "      <td>6.0</td>\n",
       "      <td>False</td>\n",
       "      <td>0.638571</td>\n",
       "    </tr>\n",
       "    <tr>\n",
       "      <th>866</th>\n",
       "      <td>28</td>\n",
       "      <td>Jake</td>\n",
       "      <td>26</td>\n",
       "      <td>Harper</td>\n",
       "      <td>1.4</td>\n",
       "      <td>False</td>\n",
       "      <td>0.000000</td>\n",
       "    </tr>\n",
       "  </tbody>\n",
       "</table>\n",
       "</div>"
      ],
      "text/plain": [
       "     boy_id boy_name  girl_id  girl_name  compatibility_score  true_match  \\\n",
       "131       4   Thomas       11  Charlotte                  7.6        True   \n",
       "542      18      Max        2       Isla                  5.0       False   \n",
       "868      28     Jake       28        Zoe                  8.2        True   \n",
       "651      21   Daniel       21       Maya                  6.0       False   \n",
       "866      28     Jake       26     Harper                  1.4       False   \n",
       "\n",
       "     predicted_prob  \n",
       "131        0.566318  \n",
       "542        0.468497  \n",
       "868        1.000000  \n",
       "651        0.638571  \n",
       "866        0.000000  "
      ]
     },
     "metadata": {},
     "output_type": "display_data"
    }
   ],
   "source": [
    "pairs = []\n",
    "for b_idx in range(len(boys)):\n",
    "    for g_idx in range(len(girls)):\n",
    "        score = compatibility_score(boys.loc[b_idx], girls.loc[g_idx])\n",
    "        pairs.append({\n",
    "            'boy_id': b_idx,\n",
    "            'boy_name': boys.loc[b_idx]['name'],\n",
    "            'girl_id': g_idx,\n",
    "            'girl_name': girls.loc[g_idx]['name'],\n",
    "            'compatibility_score': score\n",
    "        })\n",
    "\n",
    "matches = pd.DataFrame(pairs)\n",
    "\n",
    "# Define true matches with threshold\n",
    "threshold_true = 7.5\n",
    "matches['true_match'] = matches['compatibility_score'] >= threshold_true\n",
    "\n",
    "# Add noise to generate predicted probabilities\n",
    "noise = np.random.normal(0, 1, len(matches))\n",
    "matches['predicted_prob'] = np.clip(matches['compatibility_score'] / 10 + noise * 0.15, 0, 1)\n",
    "\n",
    "print(\"Sample Matches with Predictions:\")\n",
    "display(matches.sample(5))\n"
   ]
  },
  {
   "cell_type": "markdown",
   "metadata": {},
   "source": [
    "## Chapter 4: The Dance of Thresholds—Tuning Sensitivity and Specificity"
   ]
  },
  {
   "cell_type": "code",
   "execution_count": 5,
   "metadata": {},
   "outputs": [
    {
     "name": "stdout",
     "output_type": "stream",
     "text": [
      "Optimal Threshold: 0.730 (Sensitivity: 0.72, Specificity: 0.76)\n"
     ]
    }
   ],
   "source": [
    "def evaluate_threshold(df, thresholds):\n",
    "    results = []\n",
    "    for t in thresholds:\n",
    "        df['predicted_match'] = df['predicted_prob'] >= t\n",
    "        cm = confusion_matrix(df['true_match'], df['predicted_match'])\n",
    "        tn, fp, fn, tp = cm.ravel() if cm.size == 4 else (0,0,0,0)\n",
    "        sensitivity = tp / (tp + fn) if (tp + fn) > 0 else 0\n",
    "        specificity = tn / (tn + fp) if (tn + fp) > 0 else 0\n",
    "        youden_j = sensitivity + specificity - 1\n",
    "        results.append({'threshold': t, 'sensitivity': sensitivity, 'specificity': specificity, 'youden_j': youden_j})\n",
    "    return pd.DataFrame(results)\n",
    "\n",
    "thresholds = np.linspace(0, 1, 101)\n",
    "eval_df = evaluate_threshold(matches.copy(), thresholds)\n",
    "best_threshold_row = eval_df.loc[eval_df['youden_j'].idxmax()]\n",
    "best_threshold = best_threshold_row['threshold']\n",
    "\n",
    "print(f\"Optimal Threshold: {best_threshold:.3f} (Sensitivity: {best_threshold_row['sensitivity']:.2f}, Specificity: {best_threshold_row['specificity']:.2f})\")\n"
   ]
  },
  {
   "cell_type": "code",
   "execution_count": 6,
   "metadata": {},
   "outputs": [
    {
     "data": {
      "image/png": "[encoded data removed]",
      "text/plain": [
       "<Figure size 1000x600 with 1 Axes>"
      ]
     },
     "metadata": {},
     "output_type": "display_data"
    }
   ],
   "source": [
    "plt.figure(figsize=(10,6))\n",
    "plt.plot(eval_df['threshold'], eval_df['sensitivity'], label='Sensitivity', color='green')\n",
    "plt.plot(eval_df['threshold'], eval_df['specificity'], label='Specificity', color='red')\n",
    "plt.axvline(best_threshold, color='blue', linestyle='--', label=f'Best Threshold: {best_threshold:.2f}')\n",
    "plt.xlabel('Threshold')\n",
    "plt.ylabel('Rate')\n",
    "plt.title('Sensitivity and Specificity vs Threshold')\n",
    "plt.legend()\n",
    "plt.grid(True)\n",
    "plt.show()\n"
   ]
  },
  {
   "cell_type": "code",
   "execution_count": 7,
   "metadata": {},
   "outputs": [
    {
     "data": {
      "image/png": "[encoded data removed]",
      "text/plain": [
       "<Figure size 1000x600 with 1 Axes>"
      ]
     },
     "metadata": {},
     "output_type": "display_data"
    }
   ],
   "source": [
    "plt.figure(figsize=(10,6))\n",
    "plt.plot(eval_df['threshold'], eval_df['sensitivity'], label='Can’t-Miss-a-Good-Match', color='green')\n",
    "plt.plot(eval_df['threshold'], eval_df['specificity'], label='No Bad Dates', color='red')\n",
    "plt.axvline(best_threshold, color='blue', linestyle='--', label=f'Best Threshold: {best_threshold:.2f}')\n",
    "plt.xlabel('Threshold')\n",
    "plt.ylabel('Rate')\n",
    "plt.title('Sensitivity and Specificity vs Threshold')\n",
    "plt.legend()\n",
    "plt.grid(True)\n",
    "plt.show()\n"
   ]
  },
  {
   "cell_type": "markdown",
   "metadata": {},
   "source": [
    "## Chapter 5: Cupid’s Aim—The ROC Curve"
   ]
  },
  {
   "cell_type": "code",
   "execution_count": 8,
   "metadata": {},
   "outputs": [
    {
     "data": {
      "image/png": "[encoded data removed]",
      "text/plain": [
       "<Figure size 800x700 with 1 Axes>"
      ]
     },
     "metadata": {},
     "output_type": "display_data"
    }
   ],
   "source": [
    "fpr, tpr, _ = roc_curve(matches['true_match'], matches['predicted_prob'])\n",
    "roc_auc = auc(fpr, tpr)\n",
    "\n",
    "plt.figure(figsize=(8,7))\n",
    "plt.plot(fpr, tpr, label=f'ROC curve (AUC = {roc_auc:.2f})', color='purple')\n",
    "plt.plot([0, 1], [0, 1], 'k--')\n",
    "plt.xlabel('False Positive Rate')\n",
    "plt.ylabel('True Positive Rate')\n",
    "plt.title('ROC Curve for AI Match Prediction')\n",
    "plt.legend(loc='lower right')\n",
    "plt.grid(True)\n",
    "plt.show()\n"
   ]
  },
  {
   "cell_type": "markdown",
   "metadata": {},
   "source": [
    "# Understanding the ROC Curve in Our Matchmaking App\n",
    "\n",
    "The **ROC Curve** (Receiver Operating Characteristic Curve) is a graphical tool used to evaluate the performance of classification models like the one used in our matchmaking app to predict potential matches.\n",
    "\n",
    "## What is an ROC Curve?\n",
    "\n",
    "- The ROC curve plots the **True Positive Rate (TPR)** against the **False Positive Rate (FPR)** at various threshold settings.\n",
    "- **True Positive Rate (Sensitivity)**: The proportion of actual matches correctly identified by the model.\n",
    "- **False Positive Rate**: The proportion of non-matches incorrectly classified as matches.\n",
    "\n",
    "## How Does It Work?\n",
    "\n",
    "- Our matchmaking model outputs a continuous score indicating how likely two people are to be a good match.\n",
    "- By changing the threshold score at which we say \"this is a match,\" we get different pairs of TPR and FPR.\n",
    "- The ROC curve shows these performance trade-offs:  \n",
    "  - A point closer to the top-left corner of the plot means better performance, with higher TPR and lower FPR.\n",
    "  - The diagonal line from (0,0) to (1,1) represents random guessing—our goal is to perform better than this.\n",
    "\n",
    "## Why is it Important?\n",
    "\n",
    "- It helps us understand the balance between identifying true matches and avoiding false matches.\n",
    "- The **Area Under the Curve (AUC)** summarizes the overall ability of the model to discriminate matches from non-matches.\n",
    "  - An AUC of 1 represents a perfect model.\n",
    "  - An AUC of 0.5 represents a model no better than random chance.\n",
    "\n",
    "## Example Interpretation\n",
    "\n",
    "If the curve is very close to the top-left corner:\n",
    "- Most suggested matches by the app are true matches.\n",
    "- Very few poor matches are mistakenly suggested.\n",
    "\n",
    "If the curve is near the diagonal:\n",
    "- The model is not good at distinguishing between matches and non-matches.\n",
    "- We might need to improve the algorithm or gather more data.\n",
    "\n",
    "---\n",
    "\n",
    "By analyzing the ROC curve, we can fine-tune our matchmaking thresholds to provide better match suggestions and enhance user satisfaction.\n"
   ]
  },
  {
   "cell_type": "markdown",
   "metadata": {},
   "source": [
    "## Chapter 6: Matches Made in Heaven\n",
    "\n",
    "At our optimal threshold, we celebrate the couples the AI predicts will meet their perfect match — the **matches made in heaven**. Let’s reveal the top couples, with charming names attached."
   ]
  },
  {
   "cell_type": "code",
   "execution_count": 9,
   "metadata": {},
   "outputs": [
    {
     "name": "stdout",
     "output_type": "stream",
     "text": [
      "Top 10 Matches Made in Heaven (at Threshold 0.73):\n",
      "- David ❤ Harper (Chemistry: 9.20, AI Probability: 1.00)\n",
      "- Harrison ❤ Charlotte (Chemistry: 8.00, AI Probability: 1.00)\n",
      "- Logan ❤ Scarlett (Chemistry: 8.20, AI Probability: 1.00)\n",
      "- Theo ❤ Isla (Chemistry: 8.60, AI Probability: 1.00)\n",
      "- George ❤ Scarlett (Chemistry: 8.80, AI Probability: 1.00)\n",
      "- Logan ❤ Ella (Chemistry: 9.00, AI Probability: 1.00)\n",
      "- Oliver ❤ Sophie (Chemistry: 7.40, AI Probability: 1.00)\n",
      "- Logan ❤ Isabella (Chemistry: 6.80, AI Probability: 1.00)\n",
      "- George ❤ Sophia (Chemistry: 7.80, AI Probability: 1.00)\n",
      "- George ❤ Emily (Chemistry: 8.20, AI Probability: 1.00)\n"
     ]
    }
   ],
   "source": [
    "# Get predicted matches at the best threshold\n",
    "matches['predicted_match_best'] = matches['predicted_prob'] >= best_threshold\n",
    "heaven_matches = matches[matches['predicted_match_best']]\n",
    "\n",
    "# Sort by predicted probability, descending\n",
    "top_matches = heaven_matches.sort_values(by='predicted_prob', ascending=False)\n",
    "\n",
    "print(f\"Top 10 Matches Made in Heaven (at Threshold {best_threshold:.2f}):\")\n",
    "for i, row in top_matches.head(10).iterrows():\n",
    "    print(f\"- {row.boy_name} ❤ {row.girl_name} (Chemistry: {row.compatibility_score:.2f}, AI Probability: {row.predicted_prob:.2f})\")"
   ]
  },
  {
   "cell_type": "code",
   "execution_count": 12,
   "metadata": {},
   "outputs": [
    {
     "data": {
      "application/vnd.plotly.v1+json": {
       "config": {
        "plotlyServerURL": "https://plot.ly"
       },
       "data": [
        {
         "marker": {
          "color": "red",
          "size": 12,
          "symbol": "star"
         },
         "mode": "markers+text",
         "name": "David & Harper",
         "text": [
          "Chemistry: 9.20<br>Prob: 1.00"
         ],
         "textposition": "top center",
         "type": "scatter",
         "x": [
          "David"
         ],
         "xaxis": "x",
         "y": [
          "Harper"
         ],
         "yaxis": "y"
        },
        {
         "marker": {
          "color": "red",
          "size": 12,
          "symbol": "star"
         },
         "mode": "markers+text",
         "name": "Harrison & Charlotte",
         "text": [
          "Chemistry: 8.00<br>Prob: 1.00"
         ],
         "textposition": "top center",
         "type": "scatter",
         "x": [
          "Harrison"
         ],
         "xaxis": "x",
         "y": [
          "Charlotte"
         ],
         "yaxis": "y"
        },
        {
         "marker": {
          "color": "red",
          "size": 12,
          "symbol": "star"
         },
         "mode": "markers+text",
         "name": "Logan & Scarlett",
         "text": [
          "Chemistry: 8.20<br>Prob: 1.00"
         ],
         "textposition": "top center",
         "type": "scatter",
         "x": [
          "Logan"
         ],
         "xaxis": "x",
         "y": [
          "Scarlett"
         ],
         "yaxis": "y"
        },
        {
         "marker": {
          "color": "red",
          "size": 12,
          "symbol": "star"
         },
         "mode": "markers+text",
         "name": "Theo & Isla",
         "text": [
          "Chemistry: 8.60<br>Prob: 1.00"
         ],
         "textposition": "top center",
         "type": "scatter",
         "x": [
          "Theo"
         ],
         "xaxis": "x",
         "y": [
          "Isla"
         ],
         "yaxis": "y"
        },
        {
         "marker": {
          "color": "red",
          "size": 12,
          "symbol": "star"
         },
         "mode": "markers+text",
         "name": "George & Scarlett",
         "text": [
          "Chemistry: 8.80<br>Prob: 1.00"
         ],
         "textposition": "top center",
         "type": "scatter",
         "x": [
          "George"
         ],
         "xaxis": "x",
         "y": [
          "Scarlett"
         ],
         "yaxis": "y"
        },
        {
         "marker": {
          "color": "red",
          "size": 12,
          "symbol": "star"
         },
         "mode": "markers+text",
         "name": "Logan & Ella",
         "text": [
          "Chemistry: 9.00<br>Prob: 1.00"
         ],
         "textposition": "top center",
         "type": "scatter",
         "x": [
          "Logan"
         ],
         "xaxis": "x",
         "y": [
          "Ella"
         ],
         "yaxis": "y"
        },
        {
         "marker": {
          "color": "red",
          "size": 12,
          "symbol": "star"
         },
         "mode": "markers+text",
         "name": "Oliver & Sophie",
         "text": [
          "Chemistry: 7.40<br>Prob: 1.00"
         ],
         "textposition": "top center",
         "type": "scatter",
         "x": [
          "Oliver"
         ],
         "xaxis": "x",
         "y": [
          "Sophie"
         ],
         "yaxis": "y"
        },
        {
         "marker": {
          "color": "red",
          "size": 12,
          "symbol": "star"
         },
         "mode": "markers+text",
         "name": "Logan & Isabella",
         "text": [
          "Chemistry: 6.80<br>Prob: 1.00"
         ],
         "textposition": "top center",
         "type": "scatter",
         "x": [
          "Logan"
         ],
         "xaxis": "x",
         "y": [
          "Isabella"
         ],
         "yaxis": "y"
        },
        {
         "marker": {
          "color": "red",
          "size": 12,
          "symbol": "star"
         },
         "mode": "markers+text",
         "name": "George & Sophia",
         "text": [
          "Chemistry: 7.80<br>Prob: 1.00"
         ],
         "textposition": "top center",
         "type": "scatter",
         "x": [
          "George"
         ],
         "xaxis": "x",
         "y": [
          "Sophia"
         ],
         "yaxis": "y"
        },
        {
         "marker": {
          "color": "red",
          "size": 12,
          "symbol": "star"
         },
         "mode": "markers+text",
         "name": "George & Emily",
         "text": [
          "Chemistry: 8.20<br>Prob: 1.00"
         ],
         "textposition": "top center",
         "type": "scatter",
         "x": [
          "George"
         ],
         "xaxis": "x",
         "y": [
          "Emily"
         ],
         "yaxis": "y"
        }
       ],
       "layout": {
        "annotations": [
         {
          "font": {
           "size": 16
          },
          "showarrow": false,
          "text": "Top Matches Made in Heaven",
          "x": 0.5,
          "xanchor": "center",
          "xref": "paper",
          "y": 1,
          "yanchor": "bottom",
          "yref": "paper"
         }
        ],
        "height": 600,
        "showlegend": false,
        "template": {
         "data": {
          "bar": [
           {
            "error_x": {
             "color": "#2a3f5f"
            },
            "error_y": {
             "color": "#2a3f5f"
            },
            "marker": {
             "line": {
              "color": "#E5ECF6",
              "width": 0.5
             },
             "pattern": {
              "fillmode": "overlay",
              "size": 10,
              "solidity": 0.2
             }
            },
            "type": "bar"
           }
          ],
          "barpolar": [
           {
            "marker": {
             "line": {
              "color": "#E5ECF6",
              "width": 0.5
             },
             "pattern": {
              "fillmode": "overlay",
              "size": 10,
              "solidity": 0.2
             }
            },
            "type": "barpolar"
           }
          ],
          "carpet": [
           {
            "aaxis": {
             "endlinecolor": "#2a3f5f",
             "gridcolor": "white",
             "linecolor": "white",
             "minorgridcolor": "white",
             "startlinecolor": "#2a3f5f"
            },
            "baxis": {
             "endlinecolor": "#2a3f5f",
             "gridcolor": "white",
             "linecolor": "white",
             "minorgridcolor": "white",
             "startlinecolor": "#2a3f5f"
            },
            "type": "carpet"
           }
          ],
          "choropleth": [
           {
            "colorbar": {
             "outlinewidth": 0,
             "ticks": ""
            },
            "type": "choropleth"
           }
          ],
          "contour": [
           {
            "colorbar": {
             "outlinewidth": 0,
             "ticks": ""
            },
            "colorscale": [
             [
              0,
              "#0d0887"
             ],
             [
              0.1111111111111111,
              "#46039f"
             ],
             [
              0.2222222222222222,
              "#7201a8"
             ],
             [
              0.3333333333333333,
              "#9c179e"
             ],
             [
              0.4444444444444444,
              "#bd3786"
             ],
             [
              0.5555555555555556,
              "#d8576b"
             ],
             [
              0.6666666666666666,
              "#ed7953"
             ],
             [
              0.7777777777777778,
              "#fb9f3a"
             ],
             [
              0.8888888888888888,
              "#fdca26"
             ],
             [
              1,
              "#f0f921"
             ]
            ],
            "type": "contour"
           }
          ],
          "contourcarpet": [
           {
            "colorbar": {
             "outlinewidth": 0,
             "ticks": ""
            },
            "type": "contourcarpet"
           }
          ],
          "heatmap": [
           {
            "colorbar": {
             "outlinewidth": 0,
             "ticks": ""
            },
            "colorscale": [
             [
              0,
              "#0d0887"
             ],
             [
              0.1111111111111111,
              "#46039f"
             ],
             [
              0.2222222222222222,
              "#7201a8"
             ],
             [
              0.3333333333333333,
              "#9c179e"
             ],
             [
              0.4444444444444444,
              "#bd3786"
             ],
             [
              0.5555555555555556,
              "#d8576b"
             ],
             [
              0.6666666666666666,
              "#ed7953"
             ],
             [
              0.7777777777777778,
              "#fb9f3a"
             ],
             [
              0.8888888888888888,
              "#fdca26"
             ],
             [
              1,
              "#f0f921"
             ]
            ],
            "type": "heatmap"
           }
          ],
          "histogram": [
           {
            "marker": {
             "pattern": {
              "fillmode": "overlay",
              "size": 10,
              "solidity": 0.2
             }
            },
            "type": "histogram"
           }
          ],
          "histogram2d": [
           {
            "colorbar": {
             "outlinewidth": 0,
             "ticks": ""
            },
            "colorscale": [
             [
              0,
              "#0d0887"
             ],
             [
              0.1111111111111111,
              "#46039f"
             ],
             [
              0.2222222222222222,
              "#7201a8"
             ],
             [
              0.3333333333333333,
              "#9c179e"
             ],
             [
              0.4444444444444444,
              "#bd3786"
             ],
             [
              0.5555555555555556,
              "#d8576b"
             ],
             [
              0.6666666666666666,
              "#ed7953"
             ],
             [
              0.7777777777777778,
              "#fb9f3a"
             ],
             [
              0.8888888888888888,
              "#fdca26"
             ],
             [
              1,
              "#f0f921"
             ]
            ],
            "type": "histogram2d"
           }
          ],
          "histogram2dcontour": [
           {
            "colorbar": {
             "outlinewidth": 0,
             "ticks": ""
            },
            "colorscale": [
             [
              0,
              "#0d0887"
             ],
             [
              0.1111111111111111,
              "#46039f"
             ],
             [
              0.2222222222222222,
              "#7201a8"
             ],
             [
              0.3333333333333333,
              "#9c179e"
             ],
             [
              0.4444444444444444,
              "#bd3786"
             ],
             [
              0.5555555555555556,
              "#d8576b"
             ],
             [
              0.6666666666666666,
              "#ed7953"
             ],
             [
              0.7777777777777778,
              "#fb9f3a"
             ],
             [
              0.8888888888888888,
              "#fdca26"
             ],
             [
              1,
              "#f0f921"
             ]
            ],
            "type": "histogram2dcontour"
           }
          ],
          "mesh3d": [
           {
            "colorbar": {
             "outlinewidth": 0,
             "ticks": ""
            },
            "type": "mesh3d"
           }
          ],
          "parcoords": [
           {
            "line": {
             "colorbar": {
              "outlinewidth": 0,
              "ticks": ""
             }
            },
            "type": "parcoords"
           }
          ],
          "pie": [
           {
            "automargin": true,
            "type": "pie"
           }
          ],
          "scatter": [
           {
            "fillpattern": {
             "fillmode": "overlay",
             "size": 10,
             "solidity": 0.2
            },
            "type": "scatter"
           }
          ],
          "scatter3d": [
           {
            "line": {
             "colorbar": {
              "outlinewidth": 0,
              "ticks": ""
             }
            },
            "marker": {
             "colorbar": {
              "outlinewidth": 0,
              "ticks": ""
             }
            },
            "type": "scatter3d"
           }
          ],
          "scattercarpet": [
           {
            "marker": {
             "colorbar": {
              "outlinewidth": 0,
              "ticks": ""
             }
            },
            "type": "scattercarpet"
           }
          ],
          "scattergeo": [
           {
            "marker": {
             "colorbar": {
              "outlinewidth": 0,
              "ticks": ""
             }
            },
            "type": "scattergeo"
           }
          ],
          "scattergl": [
           {
            "marker": {
             "colorbar": {
              "outlinewidth": 0,
              "ticks": ""
             }
            },
            "type": "scattergl"
           }
          ],
          "scattermap": [
           {
            "marker": {
             "colorbar": {
              "outlinewidth": 0,
              "ticks": ""
             }
            },
            "type": "scattermap"
           }
          ],
          "scattermapbox": [
           {
            "marker": {
             "colorbar": {
              "outlinewidth": 0,
              "ticks": ""
             }
            },
            "type": "scattermapbox"
           }
          ],
          "scatterpolar": [
           {
            "marker": {
             "colorbar": {
              "outlinewidth": 0,
              "ticks": ""
             }
            },
            "type": "scatterpolar"
           }
          ],
          "scatterpolargl": [
           {
            "marker": {
             "colorbar": {
              "outlinewidth": 0,
              "ticks": ""
             }
            },
            "type": "scatterpolargl"
           }
          ],
          "scatterternary": [
           {
            "marker": {
             "colorbar": {
              "outlinewidth": 0,
              "ticks": ""
             }
            },
            "type": "scatterternary"
           }
          ],
          "surface": [
           {
            "colorbar": {
             "outlinewidth": 0,
             "ticks": ""
            },
            "colorscale": [
             [
              0,
              "#0d0887"
             ],
             [
              0.1111111111111111,
              "#46039f"
             ],
             [
              0.2222222222222222,
              "#7201a8"
             ],
             [
              0.3333333333333333,
              "#9c179e"
             ],
             [
              0.4444444444444444,
              "#bd3786"
             ],
             [
              0.5555555555555556,
              "#d8576b"
             ],
             [
              0.6666666666666666,
              "#ed7953"
             ],
             [
              0.7777777777777778,
              "#fb9f3a"
             ],
             [
              0.8888888888888888,
              "#fdca26"
             ],
             [
              1,
              "#f0f921"
             ]
            ],
            "type": "surface"
           }
          ],
          "table": [
           {
            "cells": {
             "fill": {
              "color": "#EBF0F8"
             },
             "line": {
              "color": "white"
             }
            },
            "header": {
             "fill": {
              "color": "#C8D4E3"
             },
             "line": {
              "color": "white"
             }
            },
            "type": "table"
           }
          ]
         },
         "layout": {
          "annotationdefaults": {
           "arrowcolor": "#2a3f5f",
           "arrowhead": 0,
           "arrowwidth": 1
          },
          "autotypenumbers": "strict",
          "coloraxis": {
           "colorbar": {
            "outlinewidth": 0,
            "ticks": ""
           }
          },
          "colorscale": {
           "diverging": [
            [
             0,
             "#8e0152"
            ],
            [
             0.1,
             "#c51b7d"
            ],
            [
             0.2,
             "#de77ae"
            ],
            [
             0.3,
             "#f1b6da"
            ],
            [
             0.4,
             "#fde0ef"
            ],
            [
             0.5,
             "#f7f7f7"
            ],
            [
             0.6,
             "#e6f5d0"
            ],
            [
             0.7,
             "#b8e186"
            ],
            [
             0.8,
             "#7fbc41"
            ],
            [
             0.9,
             "#4d9221"
            ],
            [
             1,
             "#276419"
            ]
           ],
           "sequential": [
            [
             0,
             "#0d0887"
            ],
            [
             0.1111111111111111,
             "#46039f"
            ],
            [
             0.2222222222222222,
             "#7201a8"
            ],
            [
             0.3333333333333333,
             "#9c179e"
            ],
            [
             0.4444444444444444,
             "#bd3786"
            ],
            [
             0.5555555555555556,
             "#d8576b"
            ],
            [
             0.6666666666666666,
             "#ed7953"
            ],
            [
             0.7777777777777778,
             "#fb9f3a"
            ],
            [
             0.8888888888888888,
             "#fdca26"
            ],
            [
             1,
             "#f0f921"
            ]
           ],
           "sequentialminus": [
            [
             0,
             "#0d0887"
            ],
            [
             0.1111111111111111,
             "#46039f"
            ],
            [
             0.2222222222222222,
             "#7201a8"
            ],
            [
             0.3333333333333333,
             "#9c179e"
            ],
            [
             0.4444444444444444,
             "#bd3786"
            ],
            [
             0.5555555555555556,
             "#d8576b"
            ],
            [
             0.6666666666666666,
             "#ed7953"
            ],
            [
             0.7777777777777778,
             "#fb9f3a"
            ],
            [
             0.8888888888888888,
             "#fdca26"
            ],
            [
             1,
             "#f0f921"
            ]
           ]
          },
          "colorway": [
           "#636efa",
           "#EF553B",
           "#00cc96",
           "#ab63fa",
           "#FFA15A",
           "#19d3f3",
           "#FF6692",
           "#B6E880",
           "#FF97FF",
           "#FECB52"
          ],
          "font": {
           "color": "#2a3f5f"
          },
          "geo": {
           "bgcolor": "white",
           "lakecolor": "white",
           "landcolor": "#E5ECF6",
           "showlakes": true,
           "showland": true,
           "subunitcolor": "white"
          },
          "hoverlabel": {
           "align": "left"
          },
          "hovermode": "closest",
          "mapbox": {
           "style": "light"
          },
          "paper_bgcolor": "white",
          "plot_bgcolor": "#E5ECF6",
          "polar": {
           "angularaxis": {
            "gridcolor": "white",
            "linecolor": "white",
            "ticks": ""
           },
           "bgcolor": "#E5ECF6",
           "radialaxis": {
            "gridcolor": "white",
            "linecolor": "white",
            "ticks": ""
           }
          },
          "scene": {
           "xaxis": {
            "backgroundcolor": "#E5ECF6",
            "gridcolor": "white",
            "gridwidth": 2,
            "linecolor": "white",
            "showbackground": true,
            "ticks": "",
            "zerolinecolor": "white"
           },
           "yaxis": {
            "backgroundcolor": "#E5ECF6",
            "gridcolor": "white",
            "gridwidth": 2,
            "linecolor": "white",
            "showbackground": true,
            "ticks": "",
            "zerolinecolor": "white"
           },
           "zaxis": {
            "backgroundcolor": "#E5ECF6",
            "gridcolor": "white",
            "gridwidth": 2,
            "linecolor": "white",
            "showbackground": true,
            "ticks": "",
            "zerolinecolor": "white"
           }
          },
          "shapedefaults": {
           "line": {
            "color": "#2a3f5f"
           }
          },
          "ternary": {
           "aaxis": {
            "gridcolor": "white",
            "linecolor": "white",
            "ticks": ""
           },
           "baxis": {
            "gridcolor": "white",
            "linecolor": "white",
            "ticks": ""
           },
           "bgcolor": "#E5ECF6",
           "caxis": {
            "gridcolor": "white",
            "linecolor": "white",
            "ticks": ""
           }
          },
          "title": {
           "x": 0.05
          },
          "xaxis": {
           "automargin": true,
           "gridcolor": "white",
           "linecolor": "white",
           "ticks": "",
           "title": {
            "standoff": 15
           },
           "zerolinecolor": "white",
           "zerolinewidth": 2
          },
          "yaxis": {
           "automargin": true,
           "gridcolor": "white",
           "linecolor": "white",
           "ticks": "",
           "title": {
            "standoff": 15
           },
           "zerolinecolor": "white",
           "zerolinewidth": 2
          }
         }
        },
        "title": {
         "text": "Top 10 Matches Made in Heaven"
        },
        "width": 800,
        "xaxis": {
         "anchor": "y",
         "domain": [
          0,
          1
         ],
         "title": {
          "text": "Boy"
         }
        },
        "yaxis": {
         "anchor": "x",
         "domain": [
          0,
          1
         ],
         "title": {
          "text": "Girl"
         }
        }
       }
      }
     },
     "metadata": {},
     "output_type": "display_data"
    }
   ],
   "source": [
    "from plotly.subplots import make_subplots\n",
    "import plotly.graph_objects as go\n",
    "\n",
    "matchees_plot = make_subplots(rows=1, cols=1, subplot_titles=[\"Top Matches Made in Heaven\"])\n",
    "\n",
    "for i, row in top_matches.head(10).iterrows():\n",
    "    matchees_plot.add_trace(\n",
    "        go.Scatter(\n",
    "            x=[row['boy_name']],\n",
    "            y=[row['girl_name']],\n",
    "            mode='markers+text',\n",
    "            text=[f\"Chemistry: {row['compatibility_score']:.2f}<br>Prob: {row['predicted_prob']:.2f}\"],\n",
    "            textposition='top center',\n",
    "            marker=dict(size=12, color='red', symbol='star'),  # changed 'heart' to 'star'\n",
    "            name=f\"{row['boy_name']} & {row['girl_name']}\"\n",
    "        ),\n",
    "        row=1, col=1\n",
    "    )\n",
    "\n",
    "matchees_plot.update_layout(\n",
    "    height=600, width=800,\n",
    "    yaxis=dict(title=\"Girl\"),\n",
    "    xaxis=dict(title=\"Boy\"),\n",
    "    showlegend=False,\n",
    "    title_text=\"Top 10 Matches Made in Heaven\"\n",
    ")\n",
    "\n",
    "matchees_plot.show()\n"
   ]
  },
  {
   "attachments": {
    "image.png": {
     "image/png": "[encoded data removed]"
    }
   },
   "cell_type": "markdown",
   "metadata": {},
   "source": [
    "![image.png](attachment:image.png)"
   ]
  },
  {
   "cell_type": "markdown",
   "metadata": {},
   "source": [
    "## Epilogue: Lessons from an AI Matchmaker\n",
    "\n",
    "- AI makes predictions with imperfect info and a touch of randomness, just like real life.\n",
    "- The **threshold** chosen balances between casting a wide net and being selective; it changes how many matches are declared.\n",
    "- The AI’s sensitivity and specificity tell us how good it is at finding true matches and avoiding mismatches.\n",
    "- In the end, love stories emerge not just from data, but from a mix of probabilities, thresholds, and a sprinkle of human unpredictability.\n",
    "\n",
    "Feel free to adjust thresholds or personality noise to see how the AI's matchmaking creates different stories!\n",
    "\n",
    "---"
   ]
  },
  {
   "cell_type": "markdown",
   "metadata": {},
   "source": [
    "### Understanding Sensitivity, Specificity, and Thresholds in AI Dating — A Layman’s Explanation\n",
    "\n",
    "Ever wondered how an AI matchmaker decides who to pair up in a dating app? Let’s break down the key concepts into simple, real-life terms using the story you just explored in your notebook.\n",
    "\n",
    "#### Sensitivity: The AI’s “Can’t-Miss-a-Good-Match” Power\n",
    "\n",
    "- **What it means:** Sensitivity is all about the AI’s knack for spotting those couples who really *should* be together.\n",
    "- **In dating:** High sensitivity means the AI is eager to catch every possible true couple. It rarely lets a compatible pair slip by. But, being so enthusiastic, it sometimes suggests matches that don’t quite click.\n",
    "\n",
    "#### Specificity: The AI’s “No Bad Dates” Filter\n",
    "\n",
    "- **What it means:** Specificity is how well the AI can avoid suggesting matches that wouldn’t work out.\n",
    "- **In dating:** High specificity means the AI is careful, only matching people it’s sure will vibe well together — which means fewer awkward first dates. However, being too picky, it might leave some great pairs undiscovered.\n",
    "\n",
    "#### Threshold: The Secret Dial Behind the Scenes\n",
    "\n",
    "- **What it means:** The “threshold” is like a setting or filter. The AI gives each possible couple a love score (from 0 to 1) — the higher, the better.\n",
    "- **If the threshold is set low:** The AI says “Yes!” to most couples (high sensitivity, low specificity). More people get matched, but not all will be quality connections.\n",
    "- **If the threshold is set high:** The AI only pairs the couples with sky-high scores (high specificity, low sensitivity). Matches are more likely to be great, but some soulmates might be missed by chance.\n",
    "\n",
    "#### Why This Balance Matters in AI Matchmaking\n",
    "\n",
    "- **You want to meet genuinely compatible people** (high sensitivity) — but you don’t want to waste time on mismatches (high specificity).\n",
    "- **The “threshold” is how the app balances your experience**. Set too low, you get loads of matches (including many duds). Set too high, you get few matches but probably higher quality.\n",
    "\n",
    "#### Bringing It Together\n",
    "\n",
    "Think of sensitivity as “being open to possibilities,” and specificity as “being careful with your choices.” The threshold is your dating filter — controlling how adventurous or selective your matches are.\n",
    "\n",
    "- **Lower the threshold:** You cast a wider net — more dates, but more risk of disappointment.\n",
    "- **Raise the threshold:** You’re pickier — fewer dates, but each one has a higher chance of lasting success.\n",
    "\n",
    "In love (and in AI!), finding the right balance is the secret to great matchmaking.\n",
    "\n",
    "---\n",
    "\n",
    "*Now, when you look at the notebook’s matches, plots, and top couples, you’ll know exactly why some pairs made it into the “matches made in heaven” list — and how math, probabilities, and a sprinkle of optimism dance together behind the scenes!*\n"
   ]
  }
 ],
 "metadata": {
  "kernelspec": {
   "display_name": ".venv",
   "language": "python",
   "name": "python3"
  },
  "language_info": {
   "codemirror_mode": {
    "name": "ipython",
    "version": 3
   },
   "file_extension": ".py",
   "mimetype": "text/x-python",
   "name": "python",
   "nbconvert_exporter": "python",
   "pygments_lexer": "ipython3",
   "version": "3.12.10"
  }
 },
 "nbformat": 4,
 "nbformat_minor": 4
}
